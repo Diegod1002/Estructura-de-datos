{
 "cells": [
  {
   "cell_type": "markdown",
   "id": "963ba3ae",
   "metadata": {},
   "source": [
    "# Deber 3 \n",
    "Diego Reinoso \n",
    "\n",
    "00214020\n"
   ]
  },
  {
   "cell_type": "markdown",
   "id": "3117d30f",
   "metadata": {},
   "source": [
    "# Verdadero o falso con argumentos"
   ]
  },
  {
   "cell_type": "markdown",
   "id": "89766bef",
   "metadata": {},
   "source": [
    "## 1. Una función recursiva resuelve un problema resolviendo una parte mas pequeña del mismo problema "
   ]
  },
  {
   "cell_type": "markdown",
   "id": "6b4fbb31",
   "metadata": {},
   "source": [
    "Verdadero ya que como tenemos entendido el concepto de recurcion es que resuleve problemas que contienen subproblemas mas pequeños "
   ]
  },
  {
   "cell_type": "markdown",
   "id": "6a4d5f1c",
   "metadata": {},
   "source": [
    "## 2. Los modelos computacionales nos ayudan a analizar la complejidad de los algoritmos, ya que nos proveen de las especificaciones de la computadora en la cual estos se ejecutarían idealmente"
   ]
  },
  {
   "cell_type": "markdown",
   "id": "a68b0aa7",
   "metadata": {},
   "source": [
    "Verdadero ya que despues de ejecutar podemos observar el timepo en el cual este se demora en ejecutar nuestor programa"
   ]
  },
  {
   "cell_type": "markdown",
   "id": "532fef5a",
   "metadata": {},
   "source": [
    "## 3. La búsqueda en un árbol binario de búsqueda es siempre mas rápida que la búsqueda lineal en un arreglo"
   ]
  },
  {
   "cell_type": "markdown",
   "id": "45758d49",
   "metadata": {},
   "source": [
    "Verdadero ya que como sabemos la forma en la que nostros podemos realizar la busqueda en un arbol es mas rapida que una busqueda lineal"
   ]
  },
  {
   "cell_type": "markdown",
   "id": "ba5f4188",
   "metadata": {},
   "source": [
    "## 4. Un algoritmo de complejidad O(nlog(n)) es mas rápido que un algoritmo de complejidad O(n)\n"
   ]
  },
  {
   "cell_type": "markdown",
   "id": "379e1a25",
   "metadata": {},
   "source": [
    "No ya que como sabemos la complejidad de log n se demora mucho mas timepo de ejecucion que n entonces este seria falso"
   ]
  },
  {
   "cell_type": "markdown",
   "id": "dd80e314",
   "metadata": {},
   "source": [
    "## 5. Un algoritmo de complejidad Ω(nlog(n)) es mas rápido que un algoritmo de complejidad Ω(n)\n"
   ]
  },
  {
   "cell_type": "markdown",
   "id": "f06809c8",
   "metadata": {},
   "source": [
    "Falso ya que como sabemos la complejidad de n es menos que la que puede durar un n log n por este motivo podemos observar que no puede ser de esa manera "
   ]
  },
  {
   "cell_type": "markdown",
   "id": "48e475b6",
   "metadata": {},
   "source": [
    "# Problemas de programación"
   ]
  },
  {
   "cell_type": "markdown",
   "id": "48ba7647",
   "metadata": {},
   "source": [
    "#### Todo el código debe ser en Python. Si se requiere escribir funciones que hagan búsqueda o ordenamiento (search, sort), programe las funciones usando los conceptos aprendidos en clase. No use las funciones que Python provee para hacer esto."
   ]
  },
  {
   "cell_type": "markdown",
   "id": "0f1ee01d",
   "metadata": {},
   "source": [
    "## 6. Dada una lista enlazada que represente un número. Por ejemplo, 123 es representado por la lista 1->2->3 si la lista es simple o con doble enlace si es doble. Escriba un programa que haga lo siguiente:\n",
    "Reciba dos números A y B como input\n",
    "\n",
    "Transforme estos números a listas enlazadas como la definida arriba\n",
    "\n",
    "Implemente la resta de los números descritos por esas listas enlazadas. El resultado (A-B) debe ser almacenado en una lista enlazada.\n",
    "\n",
    "Imprima el resultado concatenando el valor de los nodos de la lista enlazada resultante\n",
    "\n",
    "Nota: asuma que el número A es mayor que B"
   ]
  },
  {
   "cell_type": "code",
   "execution_count": 14,
   "id": "1d88f1c0",
   "metadata": {},
   "outputs": [
    {
     "name": "stdout",
     "output_type": "stream",
     "text": [
      "6 3 "
     ]
    }
   ],
   "source": [
    "\n",
    "class ListNode:\n",
    "    def __init__(self, val):\n",
    "        self.val = val\n",
    "        self.next = None\n",
    "\n",
    "\n",
    "def anadir(l1: ListNode, l2: ListNode) -> ListNode:\n",
    "   \n",
    "  \n",
    "    temp = None\n",
    " \n",
    "    numero = 0\n",
    "  \n",
    "    while l1 is not None or l2 is not None:\n",
    "         \n",
    "        res_value = numero\n",
    "    \n",
    "        if l1 is not None:\n",
    "            res_value -= l1.val\n",
    "            l1 = l1.next\n",
    "        if l2 is not None:\n",
    "            res_value += l2.val\n",
    "            l2 = l2.next\n",
    "       \n",
    "        node = ListNode(res_value % 10)\n",
    "        \n",
    "        numero = res_value // 10\n",
    "        \n",
    "        if temp is None:\n",
    "            temp = cabeza = node\n",
    "       \n",
    "        else:\n",
    "            temp.next = node\n",
    "            temp = temp.next\n",
    "   \n",
    "    \n",
    "    return cabeza\n",
    "\n",
    "\n",
    "cabeza1 = ListNode(2)\n",
    "cabeza1.next = ListNode(3)\n",
    "\n",
    "cabeza2 = ListNode(8)\n",
    "cabeza2.next = ListNode(6)\n",
    "\n",
    "result = anadir(cabeza1, cabeza2)\n",
    "while result is not None:\n",
    "    print(str(result.val), end=\" \")\n",
    "    result = result.next"
   ]
  },
  {
   "cell_type": "markdown",
   "id": "006b97cd",
   "metadata": {},
   "source": [
    "## 7. Cuando introducimos el concepto de pilas (stacks), usamos como ejemplos una pila de platos. Siguiendo con el ejemplo, una pila de platos con muchos platos se puede caer. Para evitar esto, se puede empezar una nueva pila.\n",
    "Implemente una clase de Python que defina un arreglo de stacks. La idea de tener este arreglo es que cuando un stack alcance su capacidad máxima, un nuevo stack empieza en el mismo arreglo. Las operación pop() debe retornar el mismo valor que lo haría si estuviéramos usando un stack simple.\n",
    "\n",
    "Nota: Debe definir los elementos de la clase: el arreglo de stacks, la capacidad del arreglo (# de stacks en el arreglo), la capacidad de cada stack (# de elementos que puede tener el stack).\n",
    "\n",
    "Hint: Cuando ingrese elementos (push), los elementos van al stack que este activo (el stack que recibe y retira elementos). Debe manejar las condiciones para cambiar el stack activo (cuando un push() deja al stack sin elementos, o cuando un pop() llena el stack)."
   ]
  },
  {
   "cell_type": "code",
   "execution_count": null,
   "id": "a7ad2b80",
   "metadata": {},
   "outputs": [],
   "source": [
    "rom queue import Queue\n",
    " \n",
    "class Stack:\n",
    "     \n",
    "    def __init__(self):\n",
    "         \n",
    "      \n",
    "        self.q1 = Queue()\n",
    "        self.q2 = Queue()\n",
    "             \n",
    "       \n",
    "        self.curr_size = 0\n",
    " \n",
    "    def push(self, x):\n",
    "        self.curr_size += 1\n",
    " \n",
    "        self.q2.put(x)\n",
    " \n",
    "        \n",
    "        while (not self.q1.empty()):\n",
    "            self.q2.put(self.q1.queue[0])\n",
    "            self.q1.get()\n",
    " \n",
    "       \n",
    "        self.q = self.q1\n",
    "        self.q1 = self.q2\n",
    "        self.q2 = self.q\n",
    " \n",
    "    def pop(self):\n",
    " \n",
    "       \n",
    "        if (self.q1.empty()):\n",
    "            return\n",
    "        self.q1.get()\n",
    "        self.curr_size -= 1\n",
    " \n",
    "    def top(self):\n",
    "        if (self.q1.empty()):\n",
    "            return -1\n",
    "        return self.q1.queue[0]\n",
    " \n",
    "    def size(self):\n",
    "        return self.curr_size"
   ]
  },
  {
   "cell_type": "markdown",
   "id": "e55f5cb1",
   "metadata": {},
   "source": [
    "## 8. Dada una cola con prioridad (PriorityQueue) que contiene elementos (k,v) donde k define la prioridad y v define el valor. Recuerde que los valores con menor k tienen mayor prioridad, es decir si tenemos dos elementos (k1, v1) y (k2, v2), v2 tiene preferencia para salir de la cola antes que v1 si k2< k1. Definimos algunas de las operaciones como siguen:\n",
    "import ctypes\n",
    "\n",
    "class PriorityQueue(object):\n",
    "\n",
    "\"\"\"\n",
    "\n",
    "Implementation of the queue data structure\n",
    "\n",
    "\"\"\"\n",
    "\n",
    "def __init__(self, n):\n",
    "\n",
    "self.item_count = 0\n",
    "\n",
    "self.n = n\n",
    "\n",
    "self.queue = self._create_queue(self.n)\n",
    "\n",
    "def _create_queue(self, n):\n",
    "\n",
    "\"\"\"\n",
    "\n",
    "Creates a new stack of capacity n\n",
    "\n",
    "\"\"\"\n",
    "\n",
    "return (n * ctypes.py_object)()\n",
    "\n",
    "def dequeue(self):\n",
    "\n",
    "\"\"\"\n",
    "\n",
    "Remove an element from the queue\n",
    "\n",
    "\"\"\"\n",
    "\n",
    "c = self.queue[0]\n",
    "\n",
    "for i in range(1,self.item_count):\n",
    "\n",
    "self.queue[i-1] = self.queue[i]\n",
    "\n",
    "self.queue[self.item_count - 1] = ctypes.py_object\n",
    "\n",
    "self.item_count -= 1\n",
    "\n",
    "return c\n",
    "Implemente los métodos enqueue y decreaseKey, tal que ambos métodos tengan complejidad O(log(n)), sin utilizar funciones nativas de Python. Por ejemplo, si necesita hacer una búsqueda, no use la función de Python que implementa esto, programe la función usando for o while loops."
   ]
  },
  {
   "cell_type": "code",
   "execution_count": null,
   "id": "d374e165",
   "metadata": {},
   "outputs": [],
   "source": [
    "class node:\n",
    "    def_init_(self,x,izquierda=None,derecha=None):\n",
    "        self.data=data\n",
    "        self.next=next\n",
    "\n",
    "        \n",
    "        \n",
    "class limked_list:\n",
    "    def_init_(self):\n",
    "        self.head=None\n",
    "        \n",
    "    def anadir_alfrente(self,data):\n",
    "        self-head=node(data=data,next=self.head)\n",
    "        \n",
    "    def esta_vacio(self):\n",
    "        return self.head==None\n",
    "    \n",
    "    def anadir_alfinal(self,data):\n",
    "        if not self.head:\n",
    "            self.head=node(data=data)\n",
    "            return\n",
    "        curr=slef.head\n",
    "        while curr.next:\n",
    "            curr=curr.next\n",
    "        curr.next=nose(data=data)\n",
    "        \n",
    "    def eliminar_nodo(self,key):\n",
    "        curr=self.head\n",
    "        prev=None\n",
    "        while curr and curr.data !=key:\n",
    "            prev=curr\n",
    "            curr=curr\n",
    "        if prev is None:\n",
    "            self.head=curr.next\n",
    "        elif curr:\n",
    "            prev.next=curr.next\n",
    "            curr.next=None\n",
    "            \n",
    "    def ultimo_nodo(self):\n",
    "        temp=self.head\n",
    "        while(temp.next is not None):\n",
    "            temp=temp.next\n",
    "        return temp.data\n",
    "    \n",
    "    def imprimir_lista(self):\n",
    "        node=self.head\n",
    "        while node!=None:\n",
    "            print(nose.data,end=\"->\")\n",
    "            nose=nose.next"
   ]
  },
  {
   "cell_type": "markdown",
   "id": "8be7b25e",
   "metadata": {},
   "source": [
    "## 9. Tenemos un árbol binario (binary tree), definimos a un nodo X como rojo, si todos los nodos en el recorrido de la raiz al nodo X tienen un valor que es menor o igual a X. Por ejemplo, en el ejemplo de abajo:\n",
    "\n",
    "\n",
    "El recorrido hacia el nodo 3 de la izquierda es 3 → 1 → 3, como todos los valores en este recorrido son menores o iguales a 3 (3=3 y 1<3), el nodo es rojo. Similarmente, en el sub-árbol de la derecha, los nodos 4 y 5 también son rojos. Escriba una función en Python que cuente el numero total de nodos rojos. El input de esta función es la raíz del árbol binario."
   ]
  },
  {
   "cell_type": "code",
   "execution_count": null,
   "id": "833c1e84",
   "metadata": {},
   "outputs": [],
   "source": [
    "class Nodo:\n",
    "    def_init_(self,x,izquierda=None,derecha=None):\n",
    "        sel.val=x\n",
    "        self.left=None\n",
    "        self.derecha=None\n",
    "        \n",
    "def search_BTS(root,val):\n",
    "    if root is None or val==root.val:\n",
    "        nade=root\n",
    "    elif val< root.val:\n",
    "        node=serch_BTS(root.izquierda,val)\n",
    "    else:\n",
    "        node=serch_BTS(root.derecha,val)\n",
    "    return node\n",
    "\n",
    "def status(root,contador):\n",
    "    if root is not None:\n",
    "        if root.izquierda and root.izquierda.val>=3:\n",
    "            contador=contador(root.izquierda,contador)\n",
    "        contador+=1\n",
    "        if root.derecha and root.derecha.val>=3:\n",
    "            contador=contador(root.derecha,contador)\n",
    "        return contador"
   ]
  }
 ],
 "metadata": {
  "kernelspec": {
   "display_name": "Python 3",
   "language": "python",
   "name": "python3"
  },
  "language_info": {
   "codemirror_mode": {
    "name": "ipython",
    "version": 3
   },
   "file_extension": ".py",
   "mimetype": "text/x-python",
   "name": "python",
   "nbconvert_exporter": "python",
   "pygments_lexer": "ipython3",
   "version": "3.8.8"
  }
 },
 "nbformat": 4,
 "nbformat_minor": 5
}
