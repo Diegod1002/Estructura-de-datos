{
 "cells": [
  {
   "cell_type": "markdown",
   "id": "22cce3bb",
   "metadata": {},
   "source": [
    "Deber 1 \n",
    "\n",
    "Nombre:Diego Reinoso  \n",
    "\n",
    "Codigo:00214020"
   ]
  },
  {
   "cell_type": "markdown",
   "id": "6b0342b1",
   "metadata": {},
   "source": [
    "# Ejercicio #1 Sort the following functions in decreasing order of asymptotic complexity ($O(f(n))$):"
   ]
  },
  {
   "cell_type": "markdown",
   "id": "9d18f7a0",
   "metadata": {},
   "source": [
    "$f_1(n) = n^\\sqrt{n}$\n",
    "$f_2(n) = 2^n$\n",
    "$f_3(n) = {n\\choose 2}$\n",
    "$f_4(n) = \\sum_{i=2}^n (i-1)$\n",
    "\n",
    "Como podemos observar y gracias a la definicion de ($O(f(n))$) podemos observa que el orden de complejidad de los diferntes algoritmos seria de la siguinte manera \n",
    "1. $f_2(n) = 2^n$ \n",
    "2. $f_1(n) = n^\\sqrt{n}$\n",
    "3. $f_4(n) = \\sum_{i=2}^n (i-1)$\n",
    "4. $f_3(n) = {n\\choose 2}$\n",
    "\n"
   ]
  },
  {
   "cell_type": "markdown",
   "id": "f5b94cd8",
   "metadata": {},
   "source": [
    "# Ejercicio #2 Implement in Python the insertion sort procedure to sort into non-increasing instead of non-decreasing order"
   ]
  },
  {
   "cell_type": "markdown",
   "id": "b4f8f265",
   "metadata": {},
   "source": [
    "a) Use the time function to measure the execution time for the best and worst inputs of size between 10 and 1,000 (use steps of 10)"
   ]
  },
  {
   "cell_type": "code",
   "execution_count": 6,
   "id": "cee64f9a",
   "metadata": {},
   "outputs": [],
   "source": [
    "import time\n",
    "import pandas as pd\n",
    "import numpy as np\n",
    "import matplotlib.pyplot as plt\n",
    "%matplotlib inline"
   ]
  },
  {
   "cell_type": "code",
   "execution_count": 7,
   "id": "45c875cc",
   "metadata": {},
   "outputs": [],
   "source": [
    "def Algoritmo_sort(A):\n",
    "    s=10000*time.time()    \n",
    "    for j in range (1,len(A)):\n",
    "        key = A[j]\n",
    "        i = j - 1\n",
    "        while i>=0 and A[i] < key:\n",
    "            A[i+1]= A[i]\n",
    "            i = i - 1\n",
    "            A[i+1]= key\n",
    "    return(A,10000*time.time()-s)"
   ]
  },
  {
   "cell_type": "code",
   "execution_count": 8,
   "id": "6794ff7f",
   "metadata": {},
   "outputs": [
    {
     "name": "stdout",
     "output_type": "stream",
     "text": [
      "([990, 980, 970, 960, 950, 940, 930, 920, 910, 900, 890, 880, 870, 860, 850, 840, 830, 820, 810, 800, 790, 780, 770, 760, 750, 740, 730, 720, 710, 700, 690, 680, 670, 660, 650, 640, 630, 620, 610, 600, 590, 580, 570, 560, 550, 540, 530, 520, 510, 500, 490, 480, 470, 460, 450, 440, 430, 420, 410, 400, 390, 380, 370, 360, 350, 340, 330, 320, 310, 300, 290, 280, 270, 260, 250, 240, 230, 220, 210, 200, 190, 180, 170, 160, 150, 140, 130, 120, 110, 100, 90, 80, 70, 60, 50, 40, 30, 20, 10], 19.953125)\n"
     ]
    }
   ],
   "source": [
    "valores=[]\n",
    "for i in range (1,1000):\n",
    "    contador=1\n",
    "    if i%10==0:\n",
    "        valores.append(i)\n",
    "        contador+1\n",
    "        \n",
    "print(Algoritmo_sort(valores))\n",
    "\n",
    "arreglo, tiempo1= Algoritmo_sort(valores)\n",
    "\n",
    "\n",
    "\n",
    "        \n",
    "        "
   ]
  },
  {
   "cell_type": "code",
   "execution_count": 9,
   "id": "1108c116",
   "metadata": {
    "scrolled": true
   },
   "outputs": [
    {
     "data": {
      "text/plain": [
       "<AxesSubplot:xlabel='n'>"
      ]
     },
     "execution_count": 9,
     "metadata": {},
     "output_type": "execute_result"
    },
    {
     "data": {
      "image/png": "[encoded data removed]",
      "text/plain": [
       "<Figure size 432x288 with 1 Axes>"
      ]
     },
     "metadata": {
      "needs_background": "light"
     },
     "output_type": "display_data"
    }
   ],
   "source": [
    "datos=pd.DataFrame()\n",
    "datos['n']= range(0,100,10)\n",
    "tiempo=tiempo1*datos['n']\n",
    "datos['Time']=tiempo\n",
    "datos\n",
    "datos.plot(x='n',y='Time')"
   ]
  },
  {
   "cell_type": "code",
   "execution_count": 16,
   "id": "4e3b471f",
   "metadata": {},
   "outputs": [
    {
     "name": "stdout",
     "output_type": "stream",
     "text": [
      "([990, 988, 979, 964, 960, 952, 944, 931, 921, 912, 901, 895, 885, 875, 860, 800, 750, 740, 610, 600, 520, 390, 300, 289, 280, 260, 250, 170, 100, 99, 98, 97, 94, 92, 90, 90, 90, 90, 89, 89, 78, 78, 78, 78, 76, 65, 60, 56, 56, 56, 56, 56, 56, 54, 51, 45, 42, 34, 34, 32, 29, 28, 26, 23, 21, 21, 20, 20, 20, 19, 18, 18, 18, 17, 17, 16, 16, 16, 15, 15, 14, 14, 13, 12, 12, 12, 12, 10, 9, 8, 5, 4, 4, 3, 3, 2, 2, 1, 0], 9.9765625)\n"
     ]
    }
   ],
   "source": [
    "valores2=[16, 4, 9, 1, 3, 20, 8,10, 990, 988, 979, 964, 952, 944, 931, 921, 912, 901, 895, 885, 875, 960, 750, \n",
    "          740, 860, 520, 610, 600, 390, 280, 170, 260, 250,5,2,4,2,78,34,56,12,17,89,76,54,34,89,20,56,32,56,20,\n",
    "         56,78,23,14,15,17,18,90,98,94,51,15,13,14,21,28,289,800,42,56,90,12,21,29,26,3,12,16,78,90,0,18,99,97,92,56,78,\n",
    "          90,12,16,18,19,45,60,65,100,300]\n",
    "\n",
    "\n",
    "print(Algoritmo_sort(valores2))\n",
    "arreglo2, tiempo2= Algoritmo_sort(valores2)\n",
    "\n",
    "\n",
    "\n"
   ]
  },
  {
   "cell_type": "code",
   "execution_count": 17,
   "id": "08591ff3",
   "metadata": {},
   "outputs": [
    {
     "data": {
      "text/plain": [
       "<AxesSubplot:xlabel='n'>"
      ]
     },
     "execution_count": 17,
     "metadata": {},
     "output_type": "execute_result"
    },
    {
     "data": {
      "image/png": "[encoded data removed]",
      "text/plain": [
       "<Figure size 432x288 with 1 Axes>"
      ]
     },
     "metadata": {
      "needs_background": "light"
     },
     "output_type": "display_data"
    }
   ],
   "source": [
    "datos2=pd.DataFrame()\n",
    "datos2['n']= range(0,100,10)\n",
    "tiempo3=tiempo2*datos['n']\n",
    "datos2['Time']=tiempo3\n",
    "datos2\n",
    "datos2.plot(x='n',y='Time')"
   ]
  },
  {
   "cell_type": "markdown",
   "id": "2d8ce257",
   "metadata": {},
   "source": [
    "b)Plot the best and worst execution times measured in (2.1) as a function of $n$"
   ]
  },
  {
   "cell_type": "code",
   "execution_count": 18,
   "id": "4db928d0",
   "metadata": {},
   "outputs": [
    {
     "name": "stdout",
     "output_type": "stream",
     "text": [
      "    n  Tiempo peor caso  Tiempo  mejor caso\n",
      "0   0            0.0000            0.000000\n",
      "1  10          100.3125           99.980469\n",
      "2  20          200.6250          199.960938\n",
      "3  30          300.9375          299.941406\n",
      "4  40          401.2500          399.921875\n",
      "5  50          501.5625          499.902344\n",
      "6  60          601.8750          599.882812\n",
      "7  70          702.1875          699.863281\n",
      "8  80          802.5000          799.843750\n",
      "9  90          902.8125          899.824219\n"
     ]
    }
   ],
   "source": [
    "datostotales=pd.DataFrame()\n",
    "datostotales['n']= range(0,100,10)\n",
    "datostotales['Tiempo peor caso']=tiempo\n",
    "datostotales['Tiempo  mejor caso']=tiempo3\n",
    "print(datostotales)\n"
   ]
  },
  {
   "cell_type": "markdown",
   "id": "6cf4042b",
   "metadata": {},
   "source": [
    "c)Use the random function to generate randomly sorted inputs to calculate the execution time. For each $n$ run the program for 100 different inputs. Do for $n = 100,200, \\dots, 1000$."
   ]
  },
  {
   "cell_type": "code",
   "execution_count": 19,
   "id": "9d20435e",
   "metadata": {},
   "outputs": [
    {
     "name": "stdout",
     "output_type": "stream",
     "text": [
      "([992, 991, 972, 958, 955, 950, 947, 939, 935, 912, 878, 877, 873, 851, 846, 834, 834, 831, 828, 826, 821, 818, 812, 794, 793, 789, 764, 757, 730, 729, 714, 707, 702, 686, 683, 670, 654, 639, 639, 633, 629, 611, 608, 602, 601, 584, 583, 572, 572, 563, 560, 559, 546, 544, 542, 529, 520, 511, 509, 502, 492, 486, 465, 437, 432, 430, 397, 394, 385, 381, 341, 339, 320, 295, 294, 289, 270, 240, 236, 225, 222, 213, 201, 197, 189, 189, 177, 165, 159, 158, 158, 140, 137, 125, 125, 116, 108, 102, 101, 101], 9.9375)\n"
     ]
    }
   ],
   "source": [
    "import random \n",
    "Arregloaleatorio=[]\n",
    "\n",
    "for i in range (100):\n",
    "    Arregloaleatorio.append(random.randint(100, 1000))\n",
    "print(Algoritmo_sort(Arregloaleatorio))\n",
    "\n",
    "\n",
    "\n"
   ]
  },
  {
   "cell_type": "markdown",
   "id": "305e4a86",
   "metadata": {},
   "source": [
    "d)Plot the mean, median, and standard deviation as a function of $n$ for the values obtained in 2.3"
   ]
  },
  {
   "cell_type": "code",
   "execution_count": 20,
   "id": "8f272359",
   "metadata": {},
   "outputs": [
    {
     "name": "stdout",
     "output_type": "stream",
     "text": [
      "AxesSubplot(0.125,0.125;0.775x0.755)\n"
     ]
    },
    {
     "data": {
      "image/png": "[encoded data removed]",
      "text/plain": [
       "<Figure size 432x288 with 1 Axes>"
      ]
     },
     "metadata": {
      "needs_background": "light"
     },
     "output_type": "display_data"
    }
   ],
   "source": [
    "\n",
    "Grafica=pd.DataFrame({\n",
    "    'datos':Arregloaleatorio,\n",
    "    'media':[np.mean(Arregloaleatorio)for i in range(len(Arregloaleatorio))],\n",
    "    'desvacion estandar': [np.std(Arregloaleatorio)for i in range(len(Arregloaleatorio))],\n",
    "    'mediana': [np.median(Arregloaleatorio)for i in range(len(Arregloaleatorio))]}) \n",
    "print(Grafica.plot())\n",
    "\n"
   ]
  },
  {
   "cell_type": "markdown",
   "id": "c41ff677",
   "metadata": {},
   "source": [
    "# 3. CLRS 2.1-4\n",
    "pg. 22"
   ]
  },
  {
   "cell_type": "markdown",
   "id": "f4bdcde6",
   "metadata": {},
   "source": [
    "Como podemos observar en nuestro input tenemos dos arreglos  de tipo bool  $A=⟨a_1,a_2,.....a_n⟩$ y $B=⟨b_1,b_2,.....b_n⟩$, que estos representan un numero entero almacendo en formato bynario entonces lo tenemos de la siguinte manera representados $0 ,1$\n",
    "\n",
    "Y en el output tenemos que un Array creado de tipo $C=⟨c_1,c_2,.....c_n⟩$ como podemos observar nuestros resultados los obtenemos de $C^`=A^`+B^`$ donde $A^`,B^`,C^`$ son numeros enteros representados por $A,B,C$\n",
    "\n"
   ]
  },
  {
   "cell_type": "markdown",
   "id": "229e1ac0",
   "metadata": {},
   "source": [
    "# 4. CLRS 3.1-1\n",
    "pg. 52"
   ]
  },
  {
   "cell_type": "markdown",
   "id": "c495657f",
   "metadata": {},
   "source": [
    "Como tenemos entendido para las funciones asintoticamnete negativas $f(n)$ y $g(n)$ podemos asumir que\n",
    "                \n",
    "$∃n_1,n_2$$:f(n)≥0$   $for $  $n>n_1$\n",
    "$g(n)≥0$ $for $   $n> n_2$\n",
    "\n",
    "Como sabemos tenemos que calcular $n_0=max(n_1,n_2)$ y sabemos que tenemos algunas ecuaciones  que serian verdar para $n>n_o$\n",
    "$f(n)≤ max(f(n),g(n))$\n",
    "$g(n)≤ max(f(n),g(n))$\n",
    "$(f(n)+g(n)/2≤ max(f(n),g(n))$\n",
    "$max(f(n),g(n))≤f(n)+g(n)$\n",
    "Para estas dos Inecuaciones obtenemos que \n",
    "$0≤\\frac{1}{2}(f(n)+g(n)≤min(f(n),g(n))≤f(n)+g(n) para $n>n_o$\n",
    "\n",
    "Entonces por la definicion obtenemos que $Θ(f(n)+g(n))$ para $c_1=\\frac{1}{2},c_2=1$\n",
    "\n",
    "\n",
    "               "
   ]
  },
  {
   "cell_type": "markdown",
   "id": "4c97cb32",
   "metadata": {},
   "source": [
    "# 5. CLRS 3.1-2\n",
    "pg. 52"
   ]
  },
  {
   "cell_type": "markdown",
   "id": "bcafc67b",
   "metadata": {},
   "source": [
    "Como sabemos que $(n+a)^b)$ entonces expandiendo tenemos que \n",
    "$(n+a)^b=C^bn^ba^u+C^bn^b-1a^1+...C^bn^ua^b$\n",
    "\n",
    "Además, sabemos que lo siguiente es cierto para cualquier polinomio cuando $x \\ge 1x≥1$\n",
    "$a_0X^u+a_1x^1+....+a_nx^n≤(a_0+a_1+....a_n)x^n$\n",
    "Asi que \n",
    "\n",
    "\n",
    "$C^bn^b≤C^bn^ba^b≤(C^b+C^b+....+C^b)n^b=2^bn^b$\n",
    "\n"
   ]
  },
  {
   "cell_type": "markdown",
   "id": "2cc7eedb",
   "metadata": {},
   "source": [
    "# 6. CLRS 3.1-6\n",
    "pg. 53"
   ]
  },
  {
   "cell_type": "markdown",
   "id": "7134e471",
   "metadata": {},
   "source": [
    "Como sabemos que $T_w$ es el timepo de ejecucion en el peor de los casos en cambio $T_b$ es el timepo de ejecucion en el mejor de los caos \n",
    "$0≤c_1g(n)≤T_b(n)  for n>n_b$\n",
    "$0≤T_w(n)≤c_2g(n)  for n>n_w$\n",
    "Combinando nostros obtenemos que \n",
    "$0≤c_1g(n)≤T_b(n)≤T_w(n)≤c_2g(n)for n> mas (n_b,n_w)$\n",
    "\n",
    "Como podemos observar el timepo de ejecucion esta delimitado por $T_b$ y $T_w$ y podemos observar la demostracio0n de $Θ$"
   ]
  },
  {
   "cell_type": "markdown",
   "id": "80a02101",
   "metadata": {},
   "source": [
    "# 7. CLRS 3-4 (a,b,e,g)\n",
    "pg. 62"
   ]
  },
  {
   "cell_type": "markdown",
   "id": "d77db313",
   "metadata": {},
   "source": [
    "# Let $f(n)$ and $g(n)$ be asymptotically positive functions. Prove or disprove each of the following conjectures"
   ]
  },
  {
   "cell_type": "markdown",
   "id": "c79e0e0a",
   "metadata": {},
   "source": [
    "a)$f(n)=O(g(n))  implies  g(n) = O(f(n))g(n)=O(f(n))$\n",
    "        En este ejercicio podemos refutar que $n=O(n^2)$, pero  $n^2\\neq O(n)$\n",
    "\n",
    "b)$f(n) + g(n) = \\Theta(\\min(f(n), g(n)))f(n)+g(n)=Θ(min(f(n),g(n))).$\n",
    "        En este ejercicio podemos refutar que $n^2+n \\neq  \\Theta(min(n^2,n))= \\Theta(n)\n",
    "        \n",
    "        \n",
    "e)$f(n)=O((f(n)^2)$\n",
    "        En este ejercicio vamos a probar $ 0≤f(n)≤cf^2 $ este es trivial cuando $f(n)≥1$ pero $f(n)<1$ para todo n, no es correcto pero no nos importa este caso \n",
    " \n",
    " g)$f(n)=Θ(f(n/2)).$\n",
    "             En este ejercicio refutamos que al tomar \n",
    "             $f(n)=2^n$ tendremos que demostrar que $∃c_1,c_2,n_O:∀n≥n_0≤c_1 *2^\\frac{n}{2}2≤2^n≤c_2 *2^\\frac{n}{2}$\n",
    " Lo cual como podemos observar obiamente es falso \n"
   ]
  }
 ],
 "metadata": {
  "kernelspec": {
   "display_name": "Python 3",
   "language": "python",
   "name": "python3"
  },
  "language_info": {
   "codemirror_mode": {
    "name": "ipython",
    "version": 3
   },
   "file_extension": ".py",
   "mimetype": "text/x-python",
   "name": "python",
   "nbconvert_exporter": "python",
   "pygments_lexer": "ipython3",
   "version": "3.8.8"
  }
 },
 "nbformat": 4,
 "nbformat_minor": 5
}
