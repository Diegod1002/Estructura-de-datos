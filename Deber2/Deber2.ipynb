{
 "cells": [
  {
   "cell_type": "markdown",
   "id": "65a951d6",
   "metadata": {},
   "source": [
    "# Deber 2\n"
   ]
  },
  {
   "cell_type": "markdown",
   "id": "bf6ff9d1",
   "metadata": {},
   "source": [
    "Diego Reinoso\n",
    "00214020"
   ]
  },
  {
   "cell_type": "markdown",
   "id": "fa187f60",
   "metadata": {},
   "source": [
    "# 1. Given the following implementation of the class PriorityQueue, implement the methods:"
   ]
  },
  {
   "cell_type": "markdown",
   "id": "80e9f4c4",
   "metadata": {},
   "source": [
    "insert(v,k) - add an element $v$ with priority $k$. Complexity $O(n)$"
   ]
  },
  {
   "cell_type": "code",
   "execution_count": null,
   "id": "0492749d",
   "metadata": {},
   "outputs": [],
   "source": [
    "class PriorityQueue(object):\n",
    "    def __init__(self):\n",
    "        self.queue = []\n",
    "  \n",
    "    def __str__(self):\n",
    "        return ' '.join([str(i) for i in self.queue])\n",
    "  \n",
    "    def isEmpty(self):\n",
    "        return len(self.queue) == 0\n",
    "  \n",
    "    def insert(self, data):\n",
    "        self.queue.append(data)"
   ]
  },
  {
   "cell_type": "markdown",
   "id": "a1900a6a",
   "metadata": {},
   "source": [
    "deleteMin() - remove the element with the lowest $k$ (highest priority). Complexity $O(1)$"
   ]
  },
  {
   "cell_type": "code",
   "execution_count": null,
   "id": "f2c29316",
   "metadata": {},
   "outputs": [],
   "source": [
    "def delete(self):\n",
    "        try:\n",
    "            max = 0\n",
    "            for i in range(len(self.queue)):\n",
    "                if self.queue[i] > self.queue[max]:\n",
    "                    max = i\n",
    "            item = self.queue[max]\n",
    "            del self.queue[max]\n",
    "            return item\n",
    "        except IndexError:\n",
    "            print()\n",
    "            exit()"
   ]
  },
  {
   "cell_type": "markdown",
   "id": "a3c9d107",
   "metadata": {},
   "source": [
    "decreaseKey(v,k) - decrease the value of $k$ (increase priority). Complexity $O(n)$"
   ]
  },
  {
   "cell_type": "code",
   "execution_count": 3,
   "id": "93b8c5db",
   "metadata": {},
   "outputs": [],
   "source": [
    "def add_task(task, priority=0):\n",
    "    if task in entry_finder:\n",
    "        remove_task(task)\n",
    "    count = next(counter)\n",
    "    entry = [priority, count, task]\n",
    "    entry_finder[task] = entry\n",
    "    heappush(pq, entry)"
   ]
  },
  {
   "cell_type": "markdown",
   "id": "be0092eb",
   "metadata": {},
   "source": [
    "# 2. You are given two non-negative integers in the form of two non-empty linked lists. The digits are stored in reverse order, and each nodes contains a single digit. Add the two numbers and return the sum as a linked list."
   ]
  },
  {
   "cell_type": "code",
   "execution_count": 52,
   "id": "585b5c98",
   "metadata": {},
   "outputs": [
    {
     "name": "stdout",
     "output_type": "stream",
     "text": [
      "7 0 8 "
     ]
    }
   ],
   "source": [
    "\n",
    "class ListNode:\n",
    "    def __init__(self, val):\n",
    "        self.val = val\n",
    "        self.next = None\n",
    "\n",
    "\n",
    "def anadir(l1: ListNode, l2: ListNode) -> ListNode:\n",
    "   \n",
    "  \n",
    "    temp = None\n",
    " \n",
    "    numero = 0\n",
    "  \n",
    "    while l1 is not None or l2 is not None:\n",
    "         \n",
    "        sum_value = numero\n",
    "    \n",
    "        if l1 is not None:\n",
    "            sum_value += l1.val\n",
    "            l1 = l1.next\n",
    "        if l2 is not None:\n",
    "            sum_value += l2.val\n",
    "            l2 = l2.next\n",
    "       \n",
    "        node = ListNode(sum_value % 10)\n",
    "        \n",
    "        numero = sum_value // 10\n",
    "        \n",
    "        if temp is None:\n",
    "            temp = cabeza = node\n",
    "       \n",
    "        else:\n",
    "            temp.next = node\n",
    "            temp = temp.next\n",
    "   \n",
    "    if numero > 0:\n",
    "        temp.next = ListNode(numero)\n",
    "    return cabeza\n",
    "\n",
    "\n",
    "cabeza1 = ListNode(2)\n",
    "cabeza1.next = ListNode(4)\n",
    "cabeza1.next.next = ListNode(3)\n",
    "\n",
    "cabeza2 = ListNode(5)\n",
    "cabeza2.next = ListNode(6)\n",
    "cabeza2.next.next = ListNode(4)\n",
    "\n",
    "result = anadir(cabeza1, cabeza2)\n",
    "while result is not None:\n",
    "    print(str(result.val), end=\" \")\n",
    "    result = result.next"
   ]
  },
  {
   "cell_type": "markdown",
   "id": "eadb47d2",
   "metadata": {},
   "source": [
    "# 3. Given a linked list, detect if the list has a cycle. If a cycle is detected, return the position of the node (with respect to the head) where the cycle starts."
   ]
  },
  {
   "cell_type": "code",
   "execution_count": 4,
   "id": "0588793b",
   "metadata": {},
   "outputs": [
    {
     "name": "stdout",
     "output_type": "stream",
     "text": [
      "Loop encontrado\n"
     ]
    }
   ],
   "source": [
    "class Node:\n",
    " \n",
    "    \n",
    "    def __init__(self, data):\n",
    "        self.data = data\n",
    "        self.next = None\n",
    " \n",
    " \n",
    "class LinkedList:\n",
    " \n",
    "    \n",
    "    def __init__(self):\n",
    "        self.head = None\n",
    " \n",
    "\n",
    "    def push(self, new_data):\n",
    "        new_node = Node(new_data)\n",
    "        new_node.next = self.head\n",
    "        self.head = new_node\n",
    " \n",
    "    def printList(self):\n",
    "        temp = self.head\n",
    "        while(temp):\n",
    "            print(temp.data, end=\" \")\n",
    "            temp = temp.next\n",
    " \n",
    "    def detectLoop(self):\n",
    "        s = set()\n",
    "        temp = self.head\n",
    "        while (temp):\n",
    " \n",
    "           \n",
    "            if (temp in s):\n",
    "                return True\n",
    " \n",
    "           \n",
    "            s.add(temp)\n",
    " \n",
    "            temp = temp.next\n",
    " \n",
    "        return False\n",
    " \n",
    " \n",
    "# \n",
    "llist = LinkedList()\n",
    "llist.push(20)\n",
    "llist.push(4)\n",
    "llist.push(15)\n",
    "llist.push(10)\n",
    " \n",
    "\n",
    "llist.head.next.next.next.next = llist.head\n",
    " \n",
    "if(llist.detectLoop()):\n",
    "    print(\"Loop encontrado\")\n",
    "else:\n",
    "    print(\"No existe loop \")"
   ]
  },
  {
   "cell_type": "markdown",
   "id": "01271299",
   "metadata": {},
   "source": [
    "# 4. CLRS 10.1-5"
   ]
  },
  {
   "cell_type": "code",
   "execution_count": null,
   "id": "8de1b2f2",
   "metadata": {},
   "outputs": [],
   "source": [
    "CABEZA-ENQUEUE(Q, x)\n",
    "    if QUEUE-LLENA(Q)\n",
    "        error \"ESTA LLENA\"\n",
    "    else\n",
    "        if Q.cabeza == 1\n",
    "            Q.cabeza = Q.length\n",
    "        else Q.cabeza = Q.cabeza - 1\n",
    "        Q[Q.cabeza] = x\n",
    "\n",
    "cola-ENQUEUE(Q, x)\n",
    "    if QUEUE-LLENA(Q)\n",
    "        error \"Esta llena\"\n",
    "    else\n",
    "        Q[Q.cola] = x\n",
    "        if Q.cola == Q.length\n",
    "            Q.cola = 1\n",
    "        else Q.cola = Q.cola + 1\n",
    "\n",
    "cabeza-DEQUEUE(Q)\n",
    "    if QUEUE-VACIA(Q)\n",
    "        error \"Vacia\"\n",
    "    else\n",
    "        x = Q[Q.cabeza]\n",
    "        if Q.cabeza == Q.length\n",
    "            Q.cabeza = 1\n",
    "        else Q.cabeza = Q.cabeza + 1\n",
    "        return x\n",
    "    \n",
    "cola-DEQUEUE(Q)\n",
    "    if QUEUE-VACIA(Q)\n",
    "        error \"Vacia\"\n",
    "    else\n",
    "        if Q.cola == 1\n",
    "            Q.cola = Q.length\n",
    "        else Q.cola = Q.cola - 1\n",
    "        x = Q[Q.cola]\n",
    "        return x"
   ]
  },
  {
   "cell_type": "markdown",
   "id": "d530c216",
   "metadata": {},
   "source": [
    "# 5. CLRS 10.1-6"
   ]
  },
  {
   "cell_type": "code",
   "execution_count": null,
   "id": "8249a69f",
   "metadata": {},
   "outputs": [],
   "source": [
    "class Queue:\n",
    "    def __init__(self):\n",
    "        self.s1 = []\n",
    "        self.s2 = []\n",
    " \n",
    "    def enQueue(self, x):\n",
    "         \n",
    "      \n",
    "        while len(self.s1) != 0:\n",
    "            self.s2.append(self.s1[-1])\n",
    "            self.s1.pop()\n",
    " \n",
    "       \n",
    "        self.s1.append(x)\n",
    " \n",
    "       \n",
    "        while len(self.s2) != 0:\n",
    "            self.s1.append(self.s2[-1])\n",
    "            self.s2.pop()\n",
    " \n",
    "    def deQueue(self):\n",
    "         \n",
    "          \n",
    "        if len(self.s1) == 0:\n",
    "            print(\"Q is Empty\")\n",
    "     \n",
    "        x = self.s1[-1]\n",
    "        self.s1.pop()\n",
    "        return x\n",
    " \n",
    "# \n",
    "if __name__ == '__main__':\n",
    "    q = Queue()\n",
    "    q.enQueue(1)\n",
    "    q.enQueue(2)\n",
    "    q.enQueue(3)\n",
    " \n",
    "    print(q.deQueue())\n",
    "    print(q.deQueue())\n",
    "    print(q.deQueue())"
   ]
  },
  {
   "cell_type": "markdown",
   "id": "f9105e0a",
   "metadata": {},
   "source": [
    "# 6. CLRS 10.1-7"
   ]
  },
  {
   "cell_type": "code",
   "execution_count": null,
   "id": "97cb2f57",
   "metadata": {},
   "outputs": [],
   "source": [
    "from queue import Queue\n",
    " \n",
    "class Stack:\n",
    "     \n",
    "    def __init__(self):\n",
    "         \n",
    "      \n",
    "        self.q1 = Queue()\n",
    "        self.q2 = Queue()\n",
    "             \n",
    "       \n",
    "        self.curr_size = 0\n",
    " \n",
    "    def push(self, x):\n",
    "        self.curr_size += 1\n",
    " \n",
    "        self.q2.put(x)\n",
    " \n",
    "        \n",
    "        while (not self.q1.empty()):\n",
    "            self.q2.put(self.q1.queue[0])\n",
    "            self.q1.get()\n",
    " \n",
    "       \n",
    "        self.q = self.q1\n",
    "        self.q1 = self.q2\n",
    "        self.q2 = self.q\n",
    " \n",
    "    def pop(self):\n",
    " \n",
    "       \n",
    "        if (self.q1.empty()):\n",
    "            return\n",
    "        self.q1.get()\n",
    "        self.curr_size -= 1\n",
    " \n",
    "    def top(self):\n",
    "        if (self.q1.empty()):\n",
    "            return -1\n",
    "        return self.q1.queue[0]\n",
    " \n",
    "    def size(self):\n",
    "        return self.curr_size\n",
    " \n",
    "# \n",
    "if __name__ == '__main__':\n",
    "    s = Stack()\n",
    "    s.push(1)\n",
    "    s.push(2)\n",
    "    s.push(3)\n",
    " \n",
    "    print(\"current size: \", s.size())\n",
    "    print(s.top())\n",
    "    s.pop()\n",
    "    print(s.top())\n",
    "    s.pop()\n",
    "    print(s.top())\n",
    " \n",
    "    print(\"current size: \", s.size())"
   ]
  }
 ],
 "metadata": {
  "kernelspec": {
   "display_name": "Python 3",
   "language": "python",
   "name": "python3"
  },
  "language_info": {
   "codemirror_mode": {
    "name": "ipython",
    "version": 3
   },
   "file_extension": ".py",
   "mimetype": "text/x-python",
   "name": "python",
   "nbconvert_exporter": "python",
   "pygments_lexer": "ipython3",
   "version": "3.8.8"
  }
 },
 "nbformat": 4,
 "nbformat_minor": 5
}
